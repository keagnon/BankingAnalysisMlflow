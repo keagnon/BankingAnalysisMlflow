{
 "cells": [
  {
   "cell_type": "markdown",
   "id": "6505a7ad",
   "metadata": {},
   "source": [
    "## What is MLFlow and its Components\n",
    "\n",
    "MLFLow is an open source platform to manage the ML lifecycle, including experimentation, reproducibility, deployment, and a central model registry. MLFLow currently offers four components:\n"
   ]
  },
  {
   "cell_type": "markdown",
   "id": "5745f450",
   "metadata": {},
   "source": [
    "<img src=\"mlflow.png\">\n",
    "\n",
    "\n",
    "https://www.mlflow.org/"
   ]
  },
  {
   "cell_type": "code",
   "execution_count": null,
   "id": "6483d984",
   "metadata": {},
   "outputs": [
    {
     "name": "stdout",
     "output_type": "stream",
     "text": [
      "Python 3.9.7\n"
     ]
    }
   ],
   "source": [
    "!python --version"
   ]
  },
  {
   "cell_type": "markdown",
   "id": "90eb0ce0",
   "metadata": {},
   "source": []
  },
  {
   "cell_type": "markdown",
   "id": "89ea09af",
   "metadata": {},
   "source": [
    "# Questions:"
   ]
  },
  {
   "cell_type": "markdown",
   "id": "47231017",
   "metadata": {},
   "source": [
    "1. Importation des données depuis un fichier CSV.\n",
    "2. Analyse univariée : Générer des histogrammes et des boîtes à moustaches pour toutes les variables. Calculer le taux de valeurs manquantes pour chaque variable et détecter la présence de valeurs aberrantes le cas échéant.\n",
    "3. Analyse multivariée : Examiner les corrélations entre les variables.\n",
    "4. Évaluation de la variable cible 'y' : Déterminer le nombre de classes dans la variable cible et évaluer l'équilibre de ces classes.\n",
    "5. Nettoyage des données : Traitement des valeurs manquantes et des valeurs aberrantes si nécessaire.\n",
    "6. Traitement de la variable catégorielle 'education' : Renommer toutes les catégories commençant par 'basic' en simplement 'basic'.\n",
    "7. Encodage des variables catégorielles.\n",
    "8. Séparation des caractéristiques (features) dans X et de la variable cible dans Y.\n",
    "9. Division des données en ensembles d'entraînement et de test.\n",
    "10. Gestion du problème de données déséquilibrées.\n",
    "11. Création une experience dans mlflow.\n",
    "12. Recherche du meilleur modèle en évaluant au moins trois modèles sans effectuer de réglages. Identifier le modèle optimal en termes de performances enregistrées à l'aide de mlflow et visualiser la matrice de confusion associée.\n",
    "13. Optimisation des hyperparamètres pour améliorer les performances des modèles. Enregistrer le nouveau modèle amélioré avec les paramètres optimaux dans mlflow.\n",
    "14. Déploiement du modèle en production en utilisant mlflow, maintenant que le cycle de vie de l'apprentissage automatique est complet et que le meilleur modèle a été sauvegardé."
   ]
  },
  {
   "cell_type": "code",
   "execution_count": null,
   "id": "5ac6b8d7",
   "metadata": {},
   "outputs": [],
   "source": []
  }
 ],
 "metadata": {
  "kernelspec": {
   "display_name": "mlflow",
   "language": "python",
   "name": "mlflow"
  },
  "language_info": {
   "codemirror_mode": {
    "name": "ipython",
    "version": 3
   },
   "file_extension": ".py",
   "mimetype": "text/x-python",
   "name": "python",
   "nbconvert_exporter": "python",
   "pygments_lexer": "ipython3",
   "version": "3.9.19"
  }
 },
 "nbformat": 4,
 "nbformat_minor": 5
}
